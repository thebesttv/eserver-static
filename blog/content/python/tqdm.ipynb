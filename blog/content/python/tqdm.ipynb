{
 "cells": [
  {
   "cell_type": "markdown",
   "id": "ca150699-8699-4fe9-ba4b-6c6360089c2c",
   "metadata": {},
   "source": [
    "# tqdm tricks\n",
    "\n",
    "The notebook source code is [here](tqdm.ipynb).\n",
    "Open this notebook at [Google Colab](https://colab.research.google.com/github/thebesttv/eserver-static/blob/main/blog/content/python/tqdm.ipynb)."
   ]
  },
  {
   "cell_type": "markdown",
   "id": "a441b68b-539c-4ffb-a91f-d4e5a158fdc6",
   "metadata": {
    "tags": []
   },
   "source": [
    "## Show progress in bytes when reading a large file line by line\n",
    "\n",
    "This came up when processing the [Stack Exchange Dataset](https://archive.org/details/stackexchange) with [@Oggai](https://github.com/chenwxOggai).\n",
    "The dataset contains very large (70G+) XML files which should be processed line-by-line in a memory-efficient way (i.e. you shouldn't read the whole file directly into memory).\n",
    "\n",
    "The idea is to iterate over the file line-by-line in a memory-efficient way as follows:\n",
    "``` python\n",
    "with open(filename) as f:\n",
    "    for line in f:\n",
    "        handle_line(line)\n",
    "```\n",
    "while keeping track of the bytes processed so far (i.e. count the bytes of each line).\n",
    "\n",
    "Combining the running byte-count with the total file size obtained from [`os.path.getsize()`](https://docs.python.org/3/library/os.path.html#os.path.getsize), we can have a progress bar showing how many bytes we have processed so far, and an ETA.\n",
    "\n",
    "However, the byte count of each `line` is not so easy to obtain, since `len(line)` returns the number of **characters**, not the number of **bytes**.  [This answer](https://stackoverflow.com/a/30686735) provides a solution:\n",
    "``` python\n",
    "def utf8len(s):\n",
    "    return len(s.encode('utf-8'))\n",
    "```\n",
    "\n",
    "The result is a function:"
   ]
  },
  {
   "cell_type": "code",
   "execution_count": 1,
   "id": "96a9b975-5d10-4b22-b8ed-535811de910c",
   "metadata": {
    "tags": []
   },
   "outputs": [
    {
     "name": "stderr",
     "output_type": "stream",
     "text": [
      "100%|██████████████████████████████████████████████████████████████████████████████████████████████████████████████████████████████████| 1.63M/1.63M [00:04<00:00, 349kB/s]"
     ]
    },
    {
     "name": "stdout",
     "output_type": "stream",
     "text": [
      "\n",
      "Total line count: 17001\n"
     ]
    },
    {
     "name": "stderr",
     "output_type": "stream",
     "text": [
      "\n"
     ]
    }
   ],
   "source": [
    "def tqdm_read_file_line_by_line(filename, encoding='utf-8'):\n",
    "    \"\"\"Reads & returns a text file line by line, while showing a tqdm progress bar.\"\"\"\n",
    "    import os\n",
    "    from tqdm import tqdm\n",
    "\n",
    "    # get byte count of each line\n",
    "    def line_size(line):\n",
    "        return len(line.encode(encoding, 'replace'))\n",
    "\n",
    "    # total byte count\n",
    "    total_size = os.path.getsize(filename)\n",
    "\n",
    "    with open(filename, encoding=encoding) as f, \\\n",
    "            tqdm(total=total_size, unit='B', unit_scale=True, unit_divisor=1024) as pbar:\n",
    "        for line in f:\n",
    "            yield line\n",
    "            # update running byte-count\n",
    "            pbar.update(line_size(line))\n",
    "\n",
    "\n",
    "filename = 'sample_data/california_housing_train.csv'\n",
    "lc = 0\n",
    "for line in tqdm_read_file_line_by_line(filename):\n",
    "    # perform some operation based on each line\n",
    "    lc += 1\n",
    "    for _ in range(10000):\n",
    "        pass\n",
    "\n",
    "print()\n",
    "print(f'Total line count: {lc}')"
   ]
  },
  {
   "cell_type": "markdown",
   "id": "9d896c65-fb64-4984-9219-05ad5433dfd0",
   "metadata": {},
   "source": [
    "This is only a rough estimage of the running byte-count,\n",
    "because of some possible utf8-related caveats (like [this one](https://stackoverflow.com/a/55201398) concerning _Byte Order Mark_).\n",
    "But it is good enough as a progress indication."
   ]
  }
 ],
 "metadata": {
  "kernelspec": {
   "display_name": "Python 3 (ipykernel)",
   "language": "python",
   "name": "python3"
  },
  "language_info": {
   "codemirror_mode": {
    "name": "ipython",
    "version": 3
   },
   "file_extension": ".py",
   "mimetype": "text/x-python",
   "name": "python",
   "nbconvert_exporter": "python",
   "pygments_lexer": "ipython3",
   "version": "3.10.10"
  }
 },
 "nbformat": 4,
 "nbformat_minor": 5
}
